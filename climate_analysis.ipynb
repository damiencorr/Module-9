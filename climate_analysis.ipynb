{
 "cells": [
  {
   "cell_type": "code",
   "execution_count": 2,
   "metadata": {},
   "outputs": [],
   "source": [
    "%matplotlib inline\n",
    "from matplotlib import style\n",
    "style.use('fivethirtyeight')\n",
    "import matplotlib.pyplot as plt"
   ]
  },
  {
   "cell_type": "code",
   "execution_count": 3,
   "metadata": {},
   "outputs": [],
   "source": [
    "import numpy as np\n",
    "import pandas as pd"
   ]
  },
  {
   "cell_type": "code",
   "execution_count": 4,
   "metadata": {},
   "outputs": [],
   "source": [
    "import datetime as dt"
   ]
  },
  {
   "cell_type": "markdown",
   "metadata": {},
   "source": [
    "# Reflect Tables into SQLAlchemy ORM"
   ]
  },
  {
   "cell_type": "code",
   "execution_count": 5,
   "metadata": {},
   "outputs": [],
   "source": [
    "# Python SQL toolkit and Object Relational Mapper\n",
    "import sqlalchemy\n",
    "from sqlalchemy.ext.automap import automap_base\n",
    "from sqlalchemy.orm import Session\n",
    "from sqlalchemy import create_engine, func"
   ]
  },
  {
   "cell_type": "code",
   "execution_count": 6,
   "metadata": {},
   "outputs": [
    {
     "data": {
      "text/plain": [
       "Engine(sqlite:///hawaii.sqlite)"
      ]
     },
     "execution_count": 6,
     "metadata": {},
     "output_type": "execute_result"
    }
   ],
   "source": [
    "engine = create_engine(\"sqlite:///hawaii.sqlite\")\n",
    "engine\n"
   ]
  },
  {
   "cell_type": "code",
   "execution_count": 7,
   "metadata": {},
   "outputs": [],
   "source": [
    "# reflect an existing database into a new model\n",
    "Base = automap_base()\n",
    "\n",
    "# reflect the tables\n",
    "Base.prepare(engine, reflect=True)\n"
   ]
  },
  {
   "cell_type": "code",
   "execution_count": 8,
   "metadata": {},
   "outputs": [
    {
     "data": {
      "text/plain": [
       "['measurement', 'station']"
      ]
     },
     "execution_count": 8,
     "metadata": {},
     "output_type": "execute_result"
    }
   ],
   "source": [
    "# We can view all of the classes that automap found\n",
    "Base.classes.keys()\n"
   ]
  },
  {
   "cell_type": "code",
   "execution_count": 9,
   "metadata": {},
   "outputs": [],
   "source": [
    "# Save references to each table\n",
    "Measurement = Base.classes.measurement\n",
    "Station = Base.classes.station"
   ]
  },
  {
   "cell_type": "code",
   "execution_count": 10,
   "metadata": {},
   "outputs": [],
   "source": [
    "# Create our session (link) from Python to the DB\n",
    "session = Session(engine)\n"
   ]
  },
  {
   "cell_type": "code",
   "execution_count": 11,
   "metadata": {
    "tags": []
   },
   "outputs": [
    {
     "name": "stdout",
     "output_type": "stream",
     "text": [
      "Table Name: measurement\n",
      "Column: id\n",
      "Column: station\n",
      "Column: date\n",
      "Column: prcp\n",
      "Column: tobs\n",
      "Table Name: station\n",
      "Column: id\n",
      "Column: station\n",
      "Column: name\n",
      "Column: latitude\n",
      "Column: longitude\n",
      "Column: elevation\n"
     ]
    }
   ],
   "source": [
    "# Reflect to see all the tables and respective columns\n",
    "from sqlalchemy import inspect\n",
    "inspector = inspect(engine)\n",
    "\n",
    "for table_name in inspector.get_table_names():\n",
    "   print(\"Table Name: %s\" % table_name)\n",
    "   for column in inspector.get_columns(table_name):\n",
    "       print(\"Column: %s\" % column['name'])"
   ]
  },
  {
   "cell_type": "markdown",
   "metadata": {},
   "source": [
    "# Exploratory Climate Analysis"
   ]
  },
  {
   "cell_type": "code",
   "execution_count": 12,
   "metadata": {},
   "outputs": [
    {
     "data": {
      "text/plain": [
       "<matplotlib.axes._subplots.AxesSubplot at 0x1d823d2c3c8>"
      ]
     },
     "execution_count": 12,
     "metadata": {},
     "output_type": "execute_result"
    },
    {
     "data": {
      "image/png": "[encoded data removed]",
      "text/plain": [
       "<Figure size 432x288 with 1 Axes>"
      ]
     },
     "metadata": {},
     "output_type": "display_data"
    }
   ],
   "source": [
    "# Design a query to retrieve the last 12 months of precipitation data and plot the results. \n",
    "# Starting from the last data point in the database. \n",
    "\n",
    "# Calculate the date one year from the last date in data set.\n",
    "prev_year = dt.date(2017, 8, 23) - dt.timedelta(days=365)\n",
    "\n",
    "# Perform a query to retrieve the data and precipitation scores\n",
    "results = []\n",
    "results = session.query(Measurement.date, Measurement.prcp)\n",
    "#print(results.all())\n",
    "results = session.query(Measurement.date, Measurement.prcp).filter(Measurement.date >= prev_year).all()\n",
    "#print(results)\n",
    "# Save the query results as a Pandas DataFrame and set the index to the date column\n",
    "df = pd.DataFrame(results, columns=['date','precipitation'])\n",
    "# Sort the dataframe by date\n",
    "df.set_index(df['date'], inplace=True)\n",
    "#print(df.to_string(index=False))\n",
    "df = df.sort_index()\n",
    "#print(df.to_string(index=False))\n",
    "# Use Pandas Plotting with Matplotlib to plot the data\n",
    "df.plot()"
   ]
  },
  {
   "cell_type": "code",
   "execution_count": 13,
   "metadata": {},
   "outputs": [
    {
     "data": {
      "text/html": [
       "<div>\n",
       "<style scoped>\n",
       "    .dataframe tbody tr th:only-of-type {\n",
       "        vertical-align: middle;\n",
       "    }\n",
       "\n",
       "    .dataframe tbody tr th {\n",
       "        vertical-align: top;\n",
       "    }\n",
       "\n",
       "    .dataframe thead th {\n",
       "        text-align: right;\n",
       "    }\n",
       "</style>\n",
       "<table border=\"1\" class=\"dataframe\">\n",
       "  <thead>\n",
       "    <tr style=\"text-align: right;\">\n",
       "      <th></th>\n",
       "      <th>precipitation</th>\n",
       "    </tr>\n",
       "  </thead>\n",
       "  <tbody>\n",
       "    <tr>\n",
       "      <th>count</th>\n",
       "      <td>2021.000000</td>\n",
       "    </tr>\n",
       "    <tr>\n",
       "      <th>mean</th>\n",
       "      <td>0.177279</td>\n",
       "    </tr>\n",
       "    <tr>\n",
       "      <th>std</th>\n",
       "      <td>0.461190</td>\n",
       "    </tr>\n",
       "    <tr>\n",
       "      <th>min</th>\n",
       "      <td>0.000000</td>\n",
       "    </tr>\n",
       "    <tr>\n",
       "      <th>25%</th>\n",
       "      <td>0.000000</td>\n",
       "    </tr>\n",
       "    <tr>\n",
       "      <th>50%</th>\n",
       "      <td>0.020000</td>\n",
       "    </tr>\n",
       "    <tr>\n",
       "      <th>75%</th>\n",
       "      <td>0.130000</td>\n",
       "    </tr>\n",
       "    <tr>\n",
       "      <th>max</th>\n",
       "      <td>6.700000</td>\n",
       "    </tr>\n",
       "  </tbody>\n",
       "</table>\n",
       "</div>"
      ],
      "text/plain": [
       "       precipitation\n",
       "count    2021.000000\n",
       "mean        0.177279\n",
       "std         0.461190\n",
       "min         0.000000\n",
       "25%         0.000000\n",
       "50%         0.020000\n",
       "75%         0.130000\n",
       "max         6.700000"
      ]
     },
     "execution_count": 13,
     "metadata": {},
     "output_type": "execute_result"
    }
   ],
   "source": [
    "# Use Pandas to calcualte the summary statistics for the precipitation data\n",
    "df.describe()"
   ]
  },
  {
   "cell_type": "code",
   "execution_count": 14,
   "metadata": {},
   "outputs": [
    {
     "data": {
      "text/plain": [
       "[(9)]"
      ]
     },
     "execution_count": 14,
     "metadata": {},
     "output_type": "execute_result"
    }
   ],
   "source": [
    "# How many stations are available in this dataset?\n",
    "session.query(func.count(Station.station)).all()"
   ]
  },
  {
   "cell_type": "code",
   "execution_count": 15,
   "metadata": {},
   "outputs": [
    {
     "data": {
      "text/plain": [
       "[('USC00519281', 2772),\n",
       " ('USC00519397', 2724),\n",
       " ('USC00513117', 2709),\n",
       " ('USC00519523', 2669),\n",
       " ('USC00516128', 2612),\n",
       " ('USC00514830', 2202),\n",
       " ('USC00511918', 1979),\n",
       " ('USC00517948', 1372),\n",
       " ('USC00518838', 511)]"
      ]
     },
     "execution_count": 15,
     "metadata": {},
     "output_type": "execute_result"
    }
   ],
   "source": [
    "# What are the most active stations?\n",
    "# List the stations and the counts in descending order.\n",
    "session.query(Measurement.station, func.count(Measurement.station)).\\\n",
    "group_by(Measurement.station).order_by(func.count(Measurement.station).desc()).all()"
   ]
  },
  {
   "cell_type": "code",
   "execution_count": 16,
   "metadata": {},
   "outputs": [
    {
     "data": {
      "text/plain": [
       "[(54.0, 85.0, 71.66378066378067)]"
      ]
     },
     "execution_count": 16,
     "metadata": {},
     "output_type": "execute_result"
    }
   ],
   "source": [
    "# Using the station id from the previous query, calculate the lowest temperature recorded, \n",
    "# highest temperature recorded, and average temperature most active station?\n",
    "session.query(func.min(Measurement.tobs), func.max(Measurement.tobs), func.avg(Measurement.tobs)).\\\n",
    "filter(Measurement.station == 'USC00519281').all()"
   ]
  },
  {
   "cell_type": "code",
   "execution_count": 17,
   "metadata": {},
   "outputs": [
    {
     "data": {
      "text/plain": [
       "<matplotlib.axes._subplots.AxesSubplot at 0x1d825561d88>"
      ]
     },
     "execution_count": 17,
     "metadata": {},
     "output_type": "execute_result"
    },
    {
     "data": {
      "image/png": "[encoded data removed]",
      "text/plain": [
       "<Figure size 432x288 with 1 Axes>"
      ]
     },
     "metadata": {},
     "output_type": "display_data"
    },
    {
     "data": {
      "image/png": "[encoded data removed]",
      "text/plain": [
       "<Figure size 432x288 with 1 Axes>"
      ]
     },
     "metadata": {},
     "output_type": "display_data"
    },
    {
     "data": {
      "image/png": "[encoded data removed]",
      "text/plain": [
       "<Figure size 432x288 with 1 Axes>"
      ]
     },
     "metadata": {},
     "output_type": "display_data"
    }
   ],
   "source": [
    "# Choose the station with the highest number of temperature observations.\n",
    "# Query the last 12 months of temperature observation data for this station and plot the results as a histogram\n",
    "results = session.query(Measurement.tobs).\\\n",
    "filter(Measurement.station == 'USC00519281').\\\n",
    "filter(Measurement.date >= prev_year).all()\n",
    "#print(results)\n",
    "df = pd.DataFrame(results, columns=['tobs'])\n",
    "#print(df)\n",
    "#plt.tight_layout()\n",
    "# When creating a histogram, you’ll need to figure how many bins you need. \n",
    "# It’s recommended that you stay within a range of 5 to 20 bins. \n",
    "# You may need to play around with the data a bit to find a good fit somewhere between 5 and 20. \n",
    "# A “good fit” is one that represents the data well and highlights areas where there is a lot of data and areas where there is not a lot of data. \n",
    "# It’s all about finding the right balance.\n",
    "df.plot.hist(bins=5)\n",
    "df.plot.hist(bins=20)\n",
    "# 12 bins is in this case a sweet spot for this data.\n",
    "df.plot.hist(bins=12)"
   ]
  },
  {
   "cell_type": "code",
   "execution_count": 18,
   "metadata": {
    "tags": []
   },
   "outputs": [
    {
     "data": {
      "text/plain": [
       "[56.0, 72.44859359844811, 87.0]"
      ]
     },
     "execution_count": 18,
     "metadata": {},
     "output_type": "execute_result"
    }
   ],
   "source": [
    "# Write a function called `calc_temps` that will accept start date and end date in the format '%Y-%m-%d' \n",
    "# and return the minimum, average, and maximum temperatures for that range of dates\n",
    "\n",
    "def calc_temps(start=None, end=None):\n",
    "\n",
    "    sel = [func.min(Measurement.tobs), func.avg(Measurement.tobs), func.max(Measurement.tobs)]           \n",
    "\n",
    "    # Check if there is an end date provided\n",
    "    if not end: \n",
    "        # No end data provided\n",
    "        results = session.query(*sel).\\\n",
    "            filter(Measurement.date <= start).all()\n",
    "        temps = list(np.ravel(results))\n",
    "        return temps\n",
    "\n",
    "    # Assume there is a start and end date\n",
    "    results = session.query(*sel).\\\n",
    "    filter(Measurement.date >= start).\\\n",
    "    filter(Measurement.date <= end).all()\n",
    "    temps = list(np.ravel(results))\n",
    "\n",
    "    return temps\n",
    "\n",
    "calc_temps('2017-06-01', '2018-06-01')\n",
    "calc_temps('2010-1-01')"
   ]
  },
  {
   "cell_type": "markdown",
   "metadata": {},
   "source": [
    "# Challenge"
   ]
  },
  {
   "cell_type": "code",
   "execution_count": 19,
   "metadata": {},
   "outputs": [],
   "source": [
    "# Module 9 Challenge\n",
    "# Gather data on the seasons of Oahu and determine whether the seasons could affect the surf and ice cream shop business. \n",
    "# # Specifically, are there certain times of the year when business might be slower, or the type of customer could be different?\n",
    "# Find a few key aspects of Oahu’s seasonal weather data because the investors want to ensure that there are enough customers between seasons to sustain the business throughout the year.\n",
    "\n",
    "# Objectives\n",
    "# - Determine key statistical data about the month of June.\n",
    "# - Determine key statistical data about the month of December.\n",
    "# - Compare your findings between the month of June and December.\n",
    "# - Make 2 or 3 recommendations for further analysis.\n",
    "# - Share your findings in the Jupyter Notebook.\n",
    "\n",
    "# Instructions\n",
    "# - Identify key statistical data in June and similarly in December across all of the stations and years using the describe() function.\n",
    "# - Share your findings in the Jupyter Notebook with a few sentences describing the key differences in weather between June and December and 2-3 recommendations for further analysis.\n",
    "\n"
   ]
  },
  {
   "cell_type": "code",
   "execution_count": 20,
   "metadata": {},
   "outputs": [
    {
     "data": {
      "text/html": [
       "<div>\n",
       "<style scoped>\n",
       "    .dataframe tbody tr th:only-of-type {\n",
       "        vertical-align: middle;\n",
       "    }\n",
       "\n",
       "    .dataframe tbody tr th {\n",
       "        vertical-align: top;\n",
       "    }\n",
       "\n",
       "    .dataframe thead th {\n",
       "        text-align: right;\n",
       "    }\n",
       "</style>\n",
       "<table border=\"1\" class=\"dataframe\">\n",
       "  <thead>\n",
       "    <tr style=\"text-align: right;\">\n",
       "      <th></th>\n",
       "      <th>date</th>\n",
       "      <th>precipitation</th>\n",
       "      <th>temperature</th>\n",
       "    </tr>\n",
       "    <tr>\n",
       "      <th>date</th>\n",
       "      <th></th>\n",
       "      <th></th>\n",
       "      <th></th>\n",
       "    </tr>\n",
       "  </thead>\n",
       "  <tbody>\n",
       "    <tr>\n",
       "      <th>2010-01-01</th>\n",
       "      <td>2010-01-01</td>\n",
       "      <td>0.08</td>\n",
       "      <td>65.0</td>\n",
       "    </tr>\n",
       "    <tr>\n",
       "      <th>2010-01-01</th>\n",
       "      <td>2010-01-01</td>\n",
       "      <td>0.21</td>\n",
       "      <td>72.0</td>\n",
       "    </tr>\n",
       "    <tr>\n",
       "      <th>2010-01-01</th>\n",
       "      <td>2010-01-01</td>\n",
       "      <td>0.15</td>\n",
       "      <td>75.0</td>\n",
       "    </tr>\n",
       "    <tr>\n",
       "      <th>2010-01-01</th>\n",
       "      <td>2010-01-01</td>\n",
       "      <td>0.15</td>\n",
       "      <td>70.0</td>\n",
       "    </tr>\n",
       "    <tr>\n",
       "      <th>2010-01-01</th>\n",
       "      <td>2010-01-01</td>\n",
       "      <td>0.05</td>\n",
       "      <td>66.0</td>\n",
       "    </tr>\n",
       "    <tr>\n",
       "      <th>...</th>\n",
       "      <td>...</td>\n",
       "      <td>...</td>\n",
       "      <td>...</td>\n",
       "    </tr>\n",
       "    <tr>\n",
       "      <th>2017-08-22</th>\n",
       "      <td>2017-08-22</td>\n",
       "      <td>0.50</td>\n",
       "      <td>76.0</td>\n",
       "    </tr>\n",
       "    <tr>\n",
       "      <th>2017-08-23</th>\n",
       "      <td>2017-08-23</td>\n",
       "      <td>0.00</td>\n",
       "      <td>81.0</td>\n",
       "    </tr>\n",
       "    <tr>\n",
       "      <th>2017-08-23</th>\n",
       "      <td>2017-08-23</td>\n",
       "      <td>0.00</td>\n",
       "      <td>82.0</td>\n",
       "    </tr>\n",
       "    <tr>\n",
       "      <th>2017-08-23</th>\n",
       "      <td>2017-08-23</td>\n",
       "      <td>0.08</td>\n",
       "      <td>82.0</td>\n",
       "    </tr>\n",
       "    <tr>\n",
       "      <th>2017-08-23</th>\n",
       "      <td>2017-08-23</td>\n",
       "      <td>0.45</td>\n",
       "      <td>76.0</td>\n",
       "    </tr>\n",
       "  </tbody>\n",
       "</table>\n",
       "<p>19550 rows × 3 columns</p>\n",
       "</div>"
      ],
      "text/plain": [
       "                  date  precipitation  temperature\n",
       "date                                              \n",
       "2010-01-01  2010-01-01           0.08         65.0\n",
       "2010-01-01  2010-01-01           0.21         72.0\n",
       "2010-01-01  2010-01-01           0.15         75.0\n",
       "2010-01-01  2010-01-01           0.15         70.0\n",
       "2010-01-01  2010-01-01           0.05         66.0\n",
       "...                ...            ...          ...\n",
       "2017-08-22  2017-08-22           0.50         76.0\n",
       "2017-08-23  2017-08-23           0.00         81.0\n",
       "2017-08-23  2017-08-23           0.00         82.0\n",
       "2017-08-23  2017-08-23           0.08         82.0\n",
       "2017-08-23  2017-08-23           0.45         76.0\n",
       "\n",
       "[19550 rows x 3 columns]"
      ]
     },
     "execution_count": 20,
     "metadata": {},
     "output_type": "execute_result"
    }
   ],
   "source": [
    "# Design a query to retrieve the available precipitation and temperature data\n",
    "# Get all the data points available in the database\n",
    "\n",
    "results = []\n",
    "results = session.query(Measurement.date, Measurement.prcp, Measurement.tobs)\n",
    "#print(results.all())\n",
    "\n",
    "# Save the query results as a Pandas DataFrame and set the index to the date column\n",
    "df = pd.DataFrame(results, columns=['date','precipitation','temperature'])\n",
    "\n",
    "# Sort the dataframe by date\n",
    "df.set_index(df['date'], inplace=True)\n",
    "df = df.sort_index()\n",
    "#print(df.to_string(index=False))\n",
    "df"
   ]
  },
  {
   "cell_type": "markdown",
   "metadata": {},
   "source": [
    "## FOCUS: June & December"
   ]
  },
  {
   "cell_type": "code",
   "execution_count": 21,
   "metadata": {},
   "outputs": [
    {
     "data": {
      "text/html": [
       "<div>\n",
       "<style scoped>\n",
       "    .dataframe tbody tr th:only-of-type {\n",
       "        vertical-align: middle;\n",
       "    }\n",
       "\n",
       "    .dataframe tbody tr th {\n",
       "        vertical-align: top;\n",
       "    }\n",
       "\n",
       "    .dataframe thead th {\n",
       "        text-align: right;\n",
       "    }\n",
       "</style>\n",
       "<table border=\"1\" class=\"dataframe\">\n",
       "  <thead>\n",
       "    <tr style=\"text-align: right;\">\n",
       "      <th></th>\n",
       "      <th>date</th>\n",
       "      <th>precipitation</th>\n",
       "      <th>temperature</th>\n",
       "    </tr>\n",
       "    <tr>\n",
       "      <th>date</th>\n",
       "      <th></th>\n",
       "      <th></th>\n",
       "      <th></th>\n",
       "    </tr>\n",
       "  </thead>\n",
       "  <tbody>\n",
       "    <tr>\n",
       "      <th>2010-12-01</th>\n",
       "      <td>2010-12-01</td>\n",
       "      <td>0.13</td>\n",
       "      <td>70.0</td>\n",
       "    </tr>\n",
       "    <tr>\n",
       "      <th>2010-12-01</th>\n",
       "      <td>2010-12-01</td>\n",
       "      <td>0.04</td>\n",
       "      <td>76.0</td>\n",
       "    </tr>\n",
       "    <tr>\n",
       "      <th>2010-12-01</th>\n",
       "      <td>2010-12-01</td>\n",
       "      <td>0.76</td>\n",
       "      <td>73.0</td>\n",
       "    </tr>\n",
       "    <tr>\n",
       "      <th>2010-12-01</th>\n",
       "      <td>2010-12-01</td>\n",
       "      <td>1.35</td>\n",
       "      <td>72.0</td>\n",
       "    </tr>\n",
       "    <tr>\n",
       "      <th>2010-12-01</th>\n",
       "      <td>2010-12-01</td>\n",
       "      <td>1.48</td>\n",
       "      <td>71.0</td>\n",
       "    </tr>\n",
       "    <tr>\n",
       "      <th>...</th>\n",
       "      <td>...</td>\n",
       "      <td>...</td>\n",
       "      <td>...</td>\n",
       "    </tr>\n",
       "    <tr>\n",
       "      <th>2016-12-31</th>\n",
       "      <td>2016-12-31</td>\n",
       "      <td>0.90</td>\n",
       "      <td>65.0</td>\n",
       "    </tr>\n",
       "    <tr>\n",
       "      <th>2016-12-31</th>\n",
       "      <td>2016-12-31</td>\n",
       "      <td>0.36</td>\n",
       "      <td>72.0</td>\n",
       "    </tr>\n",
       "    <tr>\n",
       "      <th>2016-12-31</th>\n",
       "      <td>2016-12-31</td>\n",
       "      <td>0.25</td>\n",
       "      <td>67.0</td>\n",
       "    </tr>\n",
       "    <tr>\n",
       "      <th>2016-12-31</th>\n",
       "      <td>2016-12-31</td>\n",
       "      <td>0.01</td>\n",
       "      <td>66.0</td>\n",
       "    </tr>\n",
       "    <tr>\n",
       "      <th>2016-12-31</th>\n",
       "      <td>2016-12-31</td>\n",
       "      <td>0.62</td>\n",
       "      <td>71.0</td>\n",
       "    </tr>\n",
       "  </tbody>\n",
       "</table>\n",
       "<p>1517 rows × 3 columns</p>\n",
       "</div>"
      ],
      "text/plain": [
       "                  date  precipitation  temperature\n",
       "date                                              \n",
       "2010-12-01  2010-12-01           0.13         70.0\n",
       "2010-12-01  2010-12-01           0.04         76.0\n",
       "2010-12-01  2010-12-01           0.76         73.0\n",
       "2010-12-01  2010-12-01           1.35         72.0\n",
       "2010-12-01  2010-12-01           1.48         71.0\n",
       "...                ...            ...          ...\n",
       "2016-12-31  2016-12-31           0.90         65.0\n",
       "2016-12-31  2016-12-31           0.36         72.0\n",
       "2016-12-31  2016-12-31           0.25         67.0\n",
       "2016-12-31  2016-12-31           0.01         66.0\n",
       "2016-12-31  2016-12-31           0.62         71.0\n",
       "\n",
       "[1517 rows x 3 columns]"
      ]
     },
     "execution_count": 21,
     "metadata": {},
     "output_type": "execute_result"
    }
   ],
   "source": [
    "# Separate out the June & December data respectively, creating dataframes for each month across all the available years and weather stations.\n",
    "jun_data = df.loc[(pd.to_datetime(df['date']).dt.month == 6)]\n",
    "dec_data = df.loc[(pd.to_datetime(df['date']).dt.month == 12)]\n",
    "jun_data\n",
    "dec_data"
   ]
  },
  {
   "cell_type": "markdown",
   "metadata": {},
   "source": [
    "## June"
   ]
  },
  {
   "cell_type": "code",
   "execution_count": 40,
   "metadata": {},
   "outputs": [
    {
     "data": {
      "text/html": [
       "<div>\n",
       "<style scoped>\n",
       "    .dataframe tbody tr th:only-of-type {\n",
       "        vertical-align: middle;\n",
       "    }\n",
       "\n",
       "    .dataframe tbody tr th {\n",
       "        vertical-align: top;\n",
       "    }\n",
       "\n",
       "    .dataframe thead th {\n",
       "        text-align: right;\n",
       "    }\n",
       "</style>\n",
       "<table border=\"1\" class=\"dataframe\">\n",
       "  <thead>\n",
       "    <tr style=\"text-align: right;\">\n",
       "      <th></th>\n",
       "      <th>precipitation</th>\n",
       "      <th>temperature</th>\n",
       "    </tr>\n",
       "  </thead>\n",
       "  <tbody>\n",
       "    <tr>\n",
       "      <th>count</th>\n",
       "      <td>1574.000000</td>\n",
       "      <td>1700.000000</td>\n",
       "    </tr>\n",
       "    <tr>\n",
       "      <th>mean</th>\n",
       "      <td>0.136360</td>\n",
       "      <td>74.944118</td>\n",
       "    </tr>\n",
       "    <tr>\n",
       "      <th>std</th>\n",
       "      <td>0.335731</td>\n",
       "      <td>3.257417</td>\n",
       "    </tr>\n",
       "    <tr>\n",
       "      <th>min</th>\n",
       "      <td>0.000000</td>\n",
       "      <td>64.000000</td>\n",
       "    </tr>\n",
       "    <tr>\n",
       "      <th>25%</th>\n",
       "      <td>0.000000</td>\n",
       "      <td>73.000000</td>\n",
       "    </tr>\n",
       "    <tr>\n",
       "      <th>50%</th>\n",
       "      <td>0.020000</td>\n",
       "      <td>75.000000</td>\n",
       "    </tr>\n",
       "    <tr>\n",
       "      <th>75%</th>\n",
       "      <td>0.120000</td>\n",
       "      <td>77.000000</td>\n",
       "    </tr>\n",
       "    <tr>\n",
       "      <th>max</th>\n",
       "      <td>4.430000</td>\n",
       "      <td>85.000000</td>\n",
       "    </tr>\n",
       "  </tbody>\n",
       "</table>\n",
       "</div>"
      ],
      "text/plain": [
       "       precipitation  temperature\n",
       "count    1574.000000  1700.000000\n",
       "mean        0.136360    74.944118\n",
       "std         0.335731     3.257417\n",
       "min         0.000000    64.000000\n",
       "25%         0.000000    73.000000\n",
       "50%         0.020000    75.000000\n",
       "75%         0.120000    77.000000\n",
       "max         4.430000    85.000000"
      ]
     },
     "execution_count": 40,
     "metadata": {},
     "output_type": "execute_result"
    }
   ],
   "source": [
    "# Use the .describe() function to get the distribution statistics for the JUNE precipitation and temperature measurements/observations\n",
    "\n",
    "# OBSERVATIONS:\n",
    "\n",
    "# Precipitation mean is 7 times larger than the median, and the standard deviation is approximately 15 times larger\n",
    "# - This indicates a small proportion of days with rainfalls substantially larger than the daily median.\n",
    "# QUESTIONS:\n",
    "# - Do days with rain, and days with heavier rains discourage surfing?\n",
    "# - Is there a correlation between rain and heavier rain days and temperature?\n",
    "\n",
    "# Temperature mean & median are effectively the same, likely implying a normal distribution.\n",
    "# - There is an 11F difference between the mean/median and the minimum June temperatures, with a SD of just over 3.\n",
    "# QUESTIONS:\n",
    "# - If we reasonably assume lower temperatures discourage ice cream sales then at what temperature might sales diminish? \n",
    "# - Note the proportion of lower quartile observations plus lower outliers as days with potentially reduced demand\n",
    "# - On the other end we might reasonably assume higher teperature days driving increased demand?\n",
    "\n",
    "jun_data.describe()"
   ]
  },
  {
   "cell_type": "code",
   "execution_count": 41,
   "metadata": {},
   "outputs": [
    {
     "data": {
      "text/plain": [
       "array([[<matplotlib.axes._subplots.AxesSubplot object at 0x000001D825D80208>,\n",
       "        <matplotlib.axes._subplots.AxesSubplot object at 0x000001D825D78F88>]],\n",
       "      dtype=object)"
      ]
     },
     "execution_count": 41,
     "metadata": {},
     "output_type": "execute_result"
    },
    {
     "data": {
      "image/png": "[encoded data removed]",
      "text/plain": [
       "<Figure size 432x288 with 2 Axes>"
      ]
     },
     "metadata": {},
     "output_type": "display_data"
    }
   ],
   "source": [
    "# Create SIDE-BY-SIDE histograms to show the JUNE count for each set of precipitation and temperature measurements\n",
    "\n",
    "# OBSERVATIONS: \n",
    "\n",
    "# Precipitation \n",
    "# - it is readily apparent the majoprity of days in June are rain free\n",
    "# - The relatively small number of larger observations skew the distribution to the RIGHT, across all the available weather stations and years\n",
    "\n",
    "# Temperature \n",
    "# - the mean and median observation is 75F across time & weather stations, and the distribution looks relatively normal\n",
    "\n",
    "jun_data.hist(bins=10)"
   ]
  },
  {
   "cell_type": "code",
   "execution_count": 42,
   "metadata": {},
   "outputs": [
    {
     "data": {
      "text/plain": [
       "<matplotlib.axes._subplots.AxesSubplot at 0x1d825e71688>"
      ]
     },
     "execution_count": 42,
     "metadata": {},
     "output_type": "execute_result"
    },
    {
     "data": {
      "image/png": "[encoded data removed]",
      "text/plain": [
       "<Figure size 432x288 with 1 Axes>"
      ]
     },
     "metadata": {},
     "output_type": "display_data"
    }
   ],
   "source": [
    "# Create a Box & Whisker plot to show the JUNE distribution of PRECIPITATION measurements\n",
    "\n",
    "# OBSERVATIONS:\n",
    "\n",
    "# There are high outliers, that is observations 1.5 times the interquartile range (IQR) above the median\n",
    "# - The outliers represent a number of days with substantial rainfull in contrast to the larger number of days with no or little rain\n",
    "# QUESTIONS:\n",
    "# - What is the proportion of days that are outliers? \n",
    "# - This proportion may represent a proportion of days with reduced demand for surfing.\n",
    "# - Is there a non-zero lower bound for rainfall with regard surfing demand? Or is it a binary no rain = demand, any rain = no demand?\n",
    "# - Once decided calculate the proportion of demand vs no demand days\n",
    "\n",
    "jun_data['precipitation'].plot.box()"
   ]
  },
  {
   "cell_type": "code",
   "execution_count": 53,
   "metadata": {},
   "outputs": [
    {
     "data": {
      "text/plain": [
       "<matplotlib.axes._subplots.AxesSubplot at 0x1d8273eec48>"
      ]
     },
     "execution_count": 53,
     "metadata": {},
     "output_type": "execute_result"
    },
    {
     "data": {
      "image/png": "[encoded data removed]",
      "text/plain": [
       "<Figure size 432x288 with 1 Axes>"
      ]
     },
     "metadata": {},
     "output_type": "display_data"
    }
   ],
   "source": [
    "# Create a seperate Box & Whisker plot to show the JUNE distribution of TEMPERATURE measurements\n",
    "\n",
    "# OBSERVATION: \n",
    "# This appears to be a normal distribution around 75F amd very few outliers above and below.\n",
    "# - Is there a temperature below which there is reduced demand for surfing?\n",
    "# - Use that temperature to calculate the proportion of demand vs reduced demand days\n",
    "\n",
    "jun_data['temperature'].plot.box()"
   ]
  },
  {
   "cell_type": "markdown",
   "metadata": {},
   "source": [
    "## December"
   ]
  },
  {
   "cell_type": "code",
   "execution_count": 48,
   "metadata": {},
   "outputs": [
    {
     "data": {
      "text/html": [
       "<div>\n",
       "<style scoped>\n",
       "    .dataframe tbody tr th:only-of-type {\n",
       "        vertical-align: middle;\n",
       "    }\n",
       "\n",
       "    .dataframe tbody tr th {\n",
       "        vertical-align: top;\n",
       "    }\n",
       "\n",
       "    .dataframe thead th {\n",
       "        text-align: right;\n",
       "    }\n",
       "</style>\n",
       "<table border=\"1\" class=\"dataframe\">\n",
       "  <thead>\n",
       "    <tr style=\"text-align: right;\">\n",
       "      <th></th>\n",
       "      <th>precipitation</th>\n",
       "      <th>temperature</th>\n",
       "    </tr>\n",
       "  </thead>\n",
       "  <tbody>\n",
       "    <tr>\n",
       "      <th>count</th>\n",
       "      <td>1405.000000</td>\n",
       "      <td>1517.000000</td>\n",
       "    </tr>\n",
       "    <tr>\n",
       "      <th>mean</th>\n",
       "      <td>0.216819</td>\n",
       "      <td>71.041529</td>\n",
       "    </tr>\n",
       "    <tr>\n",
       "      <th>std</th>\n",
       "      <td>0.541399</td>\n",
       "      <td>3.745920</td>\n",
       "    </tr>\n",
       "    <tr>\n",
       "      <th>min</th>\n",
       "      <td>0.000000</td>\n",
       "      <td>56.000000</td>\n",
       "    </tr>\n",
       "    <tr>\n",
       "      <th>25%</th>\n",
       "      <td>0.000000</td>\n",
       "      <td>69.000000</td>\n",
       "    </tr>\n",
       "    <tr>\n",
       "      <th>50%</th>\n",
       "      <td>0.030000</td>\n",
       "      <td>71.000000</td>\n",
       "    </tr>\n",
       "    <tr>\n",
       "      <th>75%</th>\n",
       "      <td>0.150000</td>\n",
       "      <td>74.000000</td>\n",
       "    </tr>\n",
       "    <tr>\n",
       "      <th>max</th>\n",
       "      <td>6.420000</td>\n",
       "      <td>83.000000</td>\n",
       "    </tr>\n",
       "  </tbody>\n",
       "</table>\n",
       "</div>"
      ],
      "text/plain": [
       "       precipitation  temperature\n",
       "count    1405.000000  1517.000000\n",
       "mean        0.216819    71.041529\n",
       "std         0.541399     3.745920\n",
       "min         0.000000    56.000000\n",
       "25%         0.000000    69.000000\n",
       "50%         0.030000    71.000000\n",
       "75%         0.150000    74.000000\n",
       "max         6.420000    83.000000"
      ]
     },
     "execution_count": 48,
     "metadata": {},
     "output_type": "execute_result"
    }
   ],
   "source": [
    "# As for the JUNE analysis use .describe() to get a description of the distribution of DECEMBER's precipitation and temperature observations\n",
    "\n",
    "# OBSERVATIONS:\n",
    "# Precipitation mean is roughly 7 times larger than the median, and the standard deviation is 18 times larger\n",
    "# - This indicates a small proporition of days with rainfalls substantially larger than the daily median, simlilar to June\n",
    "# - The maximum is 2 inches larger than in June\n",
    "# - There are slightly fewer observations available than in June (1.4k vs 1.6k)\n",
    "\n",
    "# Temperature mean & median are effectively the same, likely implying a normal distribution.\n",
    "# - The December Minimum is 15F lower than the Decembermean/median, with an SD of almost 4.\n",
    "# - The December Minimum is 8F lower than June's minimum\n",
    "# - There are slightly fewer observations available than in June (1.5k vs 1.7k)\n",
    "\n",
    "dec_data.describe()"
   ]
  },
  {
   "cell_type": "code",
   "execution_count": 54,
   "metadata": {},
   "outputs": [
    {
     "data": {
      "text/plain": [
       "array([[<matplotlib.axes._subplots.AxesSubplot object at 0x000001D827358888>,\n",
       "        <matplotlib.axes._subplots.AxesSubplot object at 0x000001D82744C448>]],\n",
       "      dtype=object)"
      ]
     },
     "execution_count": 54,
     "metadata": {},
     "output_type": "execute_result"
    },
    {
     "data": {
      "image/png": "[encoded data removed]",
      "text/plain": [
       "<Figure size 432x288 with 2 Axes>"
      ]
     },
     "metadata": {},
     "output_type": "display_data"
    }
   ],
   "source": [
    "# Create a histogram to show the DECEMBER count and number (as bins) for each set of PRECIPITATION and TEMPERATURE measurements\n",
    "\n",
    "# OBSERVATION: \n",
    "\n",
    "# Precipition - as per June this distribution is skewed to the right\n",
    "# - December has more days with rain, candidates for reduced surfing demand\n",
    "# -- Approximately 1.2k no rain observations in December vs 1.4k no rain in June\n",
    "# - There are days with larger observations than the largest observations in June\n",
    "\n",
    "# Temperature - as per June the distribution looks relatively normal\n",
    "# - The mean/median has dropped 4F from 75 to 71, shifting the center of the distribution to the left of the axis\n",
    "# - More days with lower temperatures hence more candidates for no demand days\n",
    "\n",
    "dec_data.hist(bins=10)"
   ]
  },
  {
   "cell_type": "code",
   "execution_count": 56,
   "metadata": {},
   "outputs": [
    {
     "data": {
      "text/plain": [
       "<matplotlib.axes._subplots.AxesSubplot at 0x1d8275a3308>"
      ]
     },
     "execution_count": 56,
     "metadata": {},
     "output_type": "execute_result"
    },
    {
     "data": {
      "image/png": "[encoded data removed]",
      "text/plain": [
       "<Figure size 432x288 with 1 Axes>"
      ]
     },
     "metadata": {},
     "output_type": "display_data"
    }
   ],
   "source": [
    "# Create a Box & Whisker plot to show the distribution of PRECIPITATION measurements for DECEMBER\n",
    "\n",
    "# OBSERVATION: \n",
    "# There are outliers 1.5 times the interquartile range (IQR) above the median.\n",
    "# - The outliers represent a number of days with substantial rainfull in contrast to the larger number of days with no or little rain.\n",
    "# QUESTIONS:\n",
    "# - What is the proportion of days that have rain including outliers?\n",
    "# - This proportion may represent the proportion of days with reduced or  demand for surfing\n",
    "# - Is there an amount of rain (e.g. days with \"light\" rain (\"light\" to be determined)) below which demand for surfing will be unaffected?\n",
    "# - Or is it simply rain = no demand for surfing?\n",
    "\n",
    "dec_data['precipitation'].plot.box()"
   ]
  },
  {
   "cell_type": "code",
   "execution_count": 57,
   "metadata": {},
   "outputs": [
    {
     "data": {
      "text/plain": [
       "<matplotlib.axes._subplots.AxesSubplot at 0x1d82760a188>"
      ]
     },
     "execution_count": 57,
     "metadata": {},
     "output_type": "execute_result"
    },
    {
     "data": {
      "image/png": "[encoded data removed]",
      "text/plain": [
       "<Figure size 432x288 with 1 Axes>"
      ]
     },
     "metadata": {},
     "output_type": "display_data"
    }
   ],
   "source": [
    "# Create a seperate Box & Whisker plot to show the DECEMBER distribution of TEMPERATURE measurements\n",
    "\n",
    "# OBSERVATION: \n",
    "# This appears to be a normal distribution around 75F, though there are more lower temperature outliers below than in June\n",
    "# - QUESTIONS:\n",
    "# - Is there a temperature below which there is reduced demand for surfing?\n",
    "# - Use that temperature to calculate the proportion of demand vs reduced demand days\n",
    "\n",
    "dec_data['temperature'].plot.box()"
   ]
  },
  {
   "cell_type": "markdown",
   "metadata": {},
   "source": [
    "# Recommendations for further analysis"
   ]
  },
  {
   "cell_type": "markdown",
   "metadata": {},
   "source": [
    "### Assumptions impacting starting a business\n",
    "- There are enough days in a year with \"good\" weather to ensure \"sufficient\" surfing & ice cream demand\n",
    "    - Why does \"enough\" days matter? Any weather-dependent business viability projection should incorporate the estimated number of business positive days vs total number of available days in its calculations\n",
    "\n",
    "### What data is available to analze\n",
    "- Weather stations make the observations on a daily basis, distributed throughout the area, each contributing daily observations.\n",
    "- Are there regular differences between the stations in their daily observations? If so are the differences attributible to a weather station's location or collection frequency/\n",
    "- The observations were made over multiple years\n",
    "- Are there reliable intra-year patterns?\n",
    "    - e.g. is June always \"better\" than December by the same amount?\n",
    "- Are there discenable inter-year trends?\n",
    "    - e.g. year over year the observations are the same, or not!\n",
    "\n",
    "### Based on the initial analysis we recommend the following for further analysis\n",
    "\n",
    "1. Analyze the June & December precipitation & temperature observations year over year\n",
    "    - Are the observations in a steady state year-over-year\n",
    "    - Is there change from one year to the next?\n",
    "    - If there is change is there a trend, and if so is it predictable or not?\n",
    "    - Count the number of outliers year over year as a hint regarding predicability\n",
    "2. Analyze the observations by weather stations in order to consider if observations vary by location\n",
    "    - Compare the weather stations daily observations, assess if their observations match or vary by location\n",
    "    - Are there batches or groups of weather stations with more aligned observations, indicating there are area-specific local conditions to consider over the island\n",
    "        - A local weather pattern, if any, will only be a consideration if there are choices with regard to suitable surfing areas. At the extreme if there is only one area to surf then the calculation becomes one of simply how many good surfing & icrecream days are there in that location."
   ]
  },
  {
   "cell_type": "code",
   "execution_count": null,
   "metadata": {},
   "outputs": [],
   "source": []
  },
  {
   "cell_type": "code",
   "execution_count": null,
   "metadata": {},
   "outputs": [],
   "source": []
  },
  {
   "cell_type": "markdown",
   "metadata": {},
   "source": [
    "### Looking at year-over-year weather trends - an example of Recommendation #1"
   ]
  },
  {
   "cell_type": "code",
   "execution_count": 59,
   "metadata": {},
   "outputs": [
    {
     "name": "stderr",
     "output_type": "stream",
     "text": [
      "C:\\Users\\damie\\Anaconda3\\lib\\site-packages\\ipykernel_launcher.py:2: SettingWithCopyWarning: \n",
      "A value is trying to be set on a copy of a slice from a DataFrame.\n",
      "Try using .loc[row_indexer,col_indexer] = value instead\n",
      "\n",
      "See the caveats in the documentation: https://pandas.pydata.org/pandas-docs/stable/user_guide/indexing.html#returning-a-view-versus-a-copy\n",
      "  \n"
     ]
    },
    {
     "data": {
      "text/plain": [
       "<matplotlib.axes._subplots.AxesSubplot at 0x1d8276b1408>"
      ]
     },
     "execution_count": 59,
     "metadata": {},
     "output_type": "execute_result"
    },
    {
     "data": {
      "image/png": "[encoded data removed]",
      "text/plain": [
       "<Figure size 432x288 with 1 Axes>"
      ]
     },
     "metadata": {},
     "output_type": "display_data"
    }
   ],
   "source": [
    "#pd.to_datetime(jul_v['date']).dt.year\n",
    "jun_data['year'] = pd.to_datetime(jun_data['date']).dt.year\n",
    "jun_data.plot(x='year',y='precipitation',kind='scatter')"
   ]
  },
  {
   "cell_type": "code",
   "execution_count": 60,
   "metadata": {},
   "outputs": [
    {
     "data": {
      "text/html": [
       "<div>\n",
       "<style scoped>\n",
       "    .dataframe tbody tr th:only-of-type {\n",
       "        vertical-align: middle;\n",
       "    }\n",
       "\n",
       "    .dataframe tbody tr th {\n",
       "        vertical-align: top;\n",
       "    }\n",
       "\n",
       "    .dataframe thead tr th {\n",
       "        text-align: left;\n",
       "    }\n",
       "\n",
       "    .dataframe thead tr:last-of-type th {\n",
       "        text-align: right;\n",
       "    }\n",
       "</style>\n",
       "<table border=\"1\" class=\"dataframe\">\n",
       "  <thead>\n",
       "    <tr>\n",
       "      <th></th>\n",
       "      <th colspan=\"8\" halign=\"left\">precipitation</th>\n",
       "      <th colspan=\"8\" halign=\"left\">temperature</th>\n",
       "    </tr>\n",
       "    <tr>\n",
       "      <th></th>\n",
       "      <th>count</th>\n",
       "      <th>mean</th>\n",
       "      <th>std</th>\n",
       "      <th>min</th>\n",
       "      <th>25%</th>\n",
       "      <th>50%</th>\n",
       "      <th>75%</th>\n",
       "      <th>max</th>\n",
       "      <th>count</th>\n",
       "      <th>mean</th>\n",
       "      <th>std</th>\n",
       "      <th>min</th>\n",
       "      <th>25%</th>\n",
       "      <th>50%</th>\n",
       "      <th>75%</th>\n",
       "      <th>max</th>\n",
       "    </tr>\n",
       "    <tr>\n",
       "      <th>year</th>\n",
       "      <th></th>\n",
       "      <th></th>\n",
       "      <th></th>\n",
       "      <th></th>\n",
       "      <th></th>\n",
       "      <th></th>\n",
       "      <th></th>\n",
       "      <th></th>\n",
       "      <th></th>\n",
       "      <th></th>\n",
       "      <th></th>\n",
       "      <th></th>\n",
       "      <th></th>\n",
       "      <th></th>\n",
       "      <th></th>\n",
       "      <th></th>\n",
       "    </tr>\n",
       "  </thead>\n",
       "  <tbody>\n",
       "    <tr>\n",
       "      <th>2010</th>\n",
       "      <td>232.0</td>\n",
       "      <td>0.042241</td>\n",
       "      <td>0.112705</td>\n",
       "      <td>0.0</td>\n",
       "      <td>0.00</td>\n",
       "      <td>0.00</td>\n",
       "      <td>0.0300</td>\n",
       "      <td>0.88</td>\n",
       "      <td>242.0</td>\n",
       "      <td>74.925620</td>\n",
       "      <td>2.823039</td>\n",
       "      <td>67.0</td>\n",
       "      <td>73.0</td>\n",
       "      <td>75.0</td>\n",
       "      <td>77.0</td>\n",
       "      <td>85.0</td>\n",
       "    </tr>\n",
       "    <tr>\n",
       "      <th>2011</th>\n",
       "      <td>212.0</td>\n",
       "      <td>0.240142</td>\n",
       "      <td>0.595849</td>\n",
       "      <td>0.0</td>\n",
       "      <td>0.00</td>\n",
       "      <td>0.04</td>\n",
       "      <td>0.1625</td>\n",
       "      <td>4.43</td>\n",
       "      <td>227.0</td>\n",
       "      <td>73.938326</td>\n",
       "      <td>2.869689</td>\n",
       "      <td>65.0</td>\n",
       "      <td>72.0</td>\n",
       "      <td>74.0</td>\n",
       "      <td>76.0</td>\n",
       "      <td>82.0</td>\n",
       "    </tr>\n",
       "    <tr>\n",
       "      <th>2012</th>\n",
       "      <td>194.0</td>\n",
       "      <td>0.097062</td>\n",
       "      <td>0.223688</td>\n",
       "      <td>0.0</td>\n",
       "      <td>0.00</td>\n",
       "      <td>0.01</td>\n",
       "      <td>0.0950</td>\n",
       "      <td>1.84</td>\n",
       "      <td>211.0</td>\n",
       "      <td>74.000000</td>\n",
       "      <td>2.865227</td>\n",
       "      <td>68.0</td>\n",
       "      <td>72.0</td>\n",
       "      <td>74.0</td>\n",
       "      <td>76.0</td>\n",
       "      <td>81.0</td>\n",
       "    </tr>\n",
       "    <tr>\n",
       "      <th>2013</th>\n",
       "      <td>205.0</td>\n",
       "      <td>0.144195</td>\n",
       "      <td>0.378906</td>\n",
       "      <td>0.0</td>\n",
       "      <td>0.00</td>\n",
       "      <td>0.02</td>\n",
       "      <td>0.0800</td>\n",
       "      <td>2.80</td>\n",
       "      <td>217.0</td>\n",
       "      <td>74.599078</td>\n",
       "      <td>3.203094</td>\n",
       "      <td>66.0</td>\n",
       "      <td>72.0</td>\n",
       "      <td>75.0</td>\n",
       "      <td>77.0</td>\n",
       "      <td>81.0</td>\n",
       "    </tr>\n",
       "    <tr>\n",
       "      <th>2014</th>\n",
       "      <td>199.0</td>\n",
       "      <td>0.124372</td>\n",
       "      <td>0.240123</td>\n",
       "      <td>0.0</td>\n",
       "      <td>0.00</td>\n",
       "      <td>0.03</td>\n",
       "      <td>0.1400</td>\n",
       "      <td>1.45</td>\n",
       "      <td>215.0</td>\n",
       "      <td>75.027907</td>\n",
       "      <td>3.551907</td>\n",
       "      <td>67.0</td>\n",
       "      <td>72.0</td>\n",
       "      <td>75.0</td>\n",
       "      <td>78.0</td>\n",
       "      <td>84.0</td>\n",
       "    </tr>\n",
       "    <tr>\n",
       "      <th>2015</th>\n",
       "      <td>188.0</td>\n",
       "      <td>0.125160</td>\n",
       "      <td>0.300391</td>\n",
       "      <td>0.0</td>\n",
       "      <td>0.00</td>\n",
       "      <td>0.01</td>\n",
       "      <td>0.1150</td>\n",
       "      <td>2.47</td>\n",
       "      <td>203.0</td>\n",
       "      <td>74.990148</td>\n",
       "      <td>3.583502</td>\n",
       "      <td>66.0</td>\n",
       "      <td>72.0</td>\n",
       "      <td>76.0</td>\n",
       "      <td>78.0</td>\n",
       "      <td>81.0</td>\n",
       "    </tr>\n",
       "    <tr>\n",
       "      <th>2016</th>\n",
       "      <td>173.0</td>\n",
       "      <td>0.212312</td>\n",
       "      <td>0.327195</td>\n",
       "      <td>0.0</td>\n",
       "      <td>0.01</td>\n",
       "      <td>0.06</td>\n",
       "      <td>0.2800</td>\n",
       "      <td>1.70</td>\n",
       "      <td>194.0</td>\n",
       "      <td>75.175258</td>\n",
       "      <td>3.421996</td>\n",
       "      <td>64.0</td>\n",
       "      <td>73.0</td>\n",
       "      <td>75.5</td>\n",
       "      <td>78.0</td>\n",
       "      <td>81.0</td>\n",
       "    </tr>\n",
       "    <tr>\n",
       "      <th>2017</th>\n",
       "      <td>171.0</td>\n",
       "      <td>0.120000</td>\n",
       "      <td>0.217726</td>\n",
       "      <td>0.0</td>\n",
       "      <td>0.00</td>\n",
       "      <td>0.02</td>\n",
       "      <td>0.1500</td>\n",
       "      <td>1.69</td>\n",
       "      <td>191.0</td>\n",
       "      <td>77.219895</td>\n",
       "      <td>2.622538</td>\n",
       "      <td>71.0</td>\n",
       "      <td>75.0</td>\n",
       "      <td>77.0</td>\n",
       "      <td>79.0</td>\n",
       "      <td>83.0</td>\n",
       "    </tr>\n",
       "  </tbody>\n",
       "</table>\n",
       "</div>"
      ],
      "text/plain": [
       "     precipitation                                                     \\\n",
       "             count      mean       std  min   25%   50%     75%   max   \n",
       "year                                                                    \n",
       "2010         232.0  0.042241  0.112705  0.0  0.00  0.00  0.0300  0.88   \n",
       "2011         212.0  0.240142  0.595849  0.0  0.00  0.04  0.1625  4.43   \n",
       "2012         194.0  0.097062  0.223688  0.0  0.00  0.01  0.0950  1.84   \n",
       "2013         205.0  0.144195  0.378906  0.0  0.00  0.02  0.0800  2.80   \n",
       "2014         199.0  0.124372  0.240123  0.0  0.00  0.03  0.1400  1.45   \n",
       "2015         188.0  0.125160  0.300391  0.0  0.00  0.01  0.1150  2.47   \n",
       "2016         173.0  0.212312  0.327195  0.0  0.01  0.06  0.2800  1.70   \n",
       "2017         171.0  0.120000  0.217726  0.0  0.00  0.02  0.1500  1.69   \n",
       "\n",
       "     temperature                                                     \n",
       "           count       mean       std   min   25%   50%   75%   max  \n",
       "year                                                                 \n",
       "2010       242.0  74.925620  2.823039  67.0  73.0  75.0  77.0  85.0  \n",
       "2011       227.0  73.938326  2.869689  65.0  72.0  74.0  76.0  82.0  \n",
       "2012       211.0  74.000000  2.865227  68.0  72.0  74.0  76.0  81.0  \n",
       "2013       217.0  74.599078  3.203094  66.0  72.0  75.0  77.0  81.0  \n",
       "2014       215.0  75.027907  3.551907  67.0  72.0  75.0  78.0  84.0  \n",
       "2015       203.0  74.990148  3.583502  66.0  72.0  76.0  78.0  81.0  \n",
       "2016       194.0  75.175258  3.421996  64.0  73.0  75.5  78.0  81.0  \n",
       "2017       191.0  77.219895  2.622538  71.0  75.0  77.0  79.0  83.0  "
      ]
     },
     "execution_count": 60,
     "metadata": {},
     "output_type": "execute_result"
    }
   ],
   "source": [
    "jun_data.groupby('year').describe()"
   ]
  },
  {
   "cell_type": "code",
   "execution_count": 61,
   "metadata": {},
   "outputs": [
    {
     "data": {
      "text/plain": [
       "count    1574.000000\n",
       "mean        0.136360\n",
       "std         0.335731\n",
       "min         0.000000\n",
       "25%         0.000000\n",
       "50%         0.020000\n",
       "75%         0.120000\n",
       "max         4.430000\n",
       "Name: precipitation, dtype: float64"
      ]
     },
     "execution_count": 61,
     "metadata": {},
     "output_type": "execute_result"
    }
   ],
   "source": [
    "jun_data['precipitation'].describe()"
   ]
  },
  {
   "cell_type": "code",
   "execution_count": 63,
   "metadata": {},
   "outputs": [
    {
     "data": {
      "text/plain": [
       "year\n",
       "2010    [[AxesSubplot(0.08,0.07;0.378261x0.81), AxesSu...\n",
       "2011    [[AxesSubplot(0.08,0.07;0.378261x0.81), AxesSu...\n",
       "2012    [[AxesSubplot(0.08,0.07;0.378261x0.81), AxesSu...\n",
       "2013    [[AxesSubplot(0.08,0.07;0.378261x0.81), AxesSu...\n",
       "2014    [[AxesSubplot(0.08,0.07;0.378261x0.81), AxesSu...\n",
       "2015    [[AxesSubplot(0.08,0.07;0.378261x0.81), AxesSu...\n",
       "2016    [[AxesSubplot(0.08,0.07;0.378261x0.81), AxesSu...\n",
       "2017    [[AxesSubplot(0.08,0.07;0.378261x0.81), AxesSu...\n",
       "dtype: object"
      ]
     },
     "execution_count": 63,
     "metadata": {},
     "output_type": "execute_result"
    },
    {
     "data": {
      "image/png": "[encoded data removed]",
      "text/plain": [
       "<Figure size 432x288 with 2 Axes>"
      ]
     },
     "metadata": {},
     "output_type": "display_data"
    },
    {
     "data": {
      "image/png": "[encoded data removed]",
      "text/plain": [
       "<Figure size 432x288 with 2 Axes>"
      ]
     },
     "metadata": {},
     "output_type": "display_data"
    },
    {
     "data": {
      "image/png": "[encoded data removed]",
      "text/plain": [
       "<Figure size 432x288 with 2 Axes>"
      ]
     },
     "metadata": {},
     "output_type": "display_data"
    },
    {
     "data": {
      "image/png": "[encoded data removed]",
      "text/plain": [
       "<Figure size 432x288 with 2 Axes>"
      ]
     },
     "metadata": {},
     "output_type": "display_data"
    },
    {
     "data": {
      "image/png": "[encoded data removed]",
      "text/plain": [
       "<Figure size 432x288 with 2 Axes>"
      ]
     },
     "metadata": {},
     "output_type": "display_data"
    },
    {
     "data": {
      "image/png": "[encoded data removed]",
      "text/plain": [
       "<Figure size 432x288 with 2 Axes>"
      ]
     },
     "metadata": {},
     "output_type": "display_data"
    },
    {
     "data": {
      "image/png": "[encoded data removed]",
      "text/plain": [
       "<Figure size 432x288 with 2 Axes>"
      ]
     },
     "metadata": {},
     "output_type": "display_data"
    },
    {
     "data": {
      "image/png": "[encoded data removed]",
      "text/plain": [
       "<Figure size 432x288 with 2 Axes>"
      ]
     },
     "metadata": {},
     "output_type": "display_data"
    }
   ],
   "source": [
    "jun_data.groupby('year').hist()"
   ]
  },
  {
   "cell_type": "code",
   "execution_count": null,
   "metadata": {},
   "outputs": [],
   "source": []
  }
 ],
 "metadata": {
  "kernelspec": {
   "display_name": "PythonData",
   "language": "python",
   "name": "pythondata"
  },
  "language_info": {
   "codemirror_mode": {
    "name": "ipython",
    "version": 3
   },
   "file_extension": ".py",
   "mimetype": "text/x-python",
   "name": "python",
   "nbconvert_exporter": "python",
   "pygments_lexer": "ipython3",
   "version": "3.7.6"
  }
 },
 "nbformat": 4,
 "nbformat_minor": 2
}
